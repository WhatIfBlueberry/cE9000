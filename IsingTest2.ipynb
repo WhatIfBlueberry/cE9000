{
 "cells": [
  {
   "cell_type": "code",
   "execution_count": 7,
   "id": "0af6e9eb",
   "metadata": {},
   "outputs": [],
   "source": [
    "import numpy as np"
   ]
  },
  {
   "cell_type": "code",
   "execution_count": 8,
   "id": "5570dfe4",
   "metadata": {},
   "outputs": [],
   "source": [
    "def initialize_ising_model(size):\n",
    "    return np.random.choice([False, True], size=size) # zufällige 3D-Spin-Matrix aus der Liste [False,True]"
   ]
  },
  {
   "cell_type": "markdown",
   "id": "d71e2f69",
   "metadata": {},
   "source": [
    "\"False\" (Spin-Down) oder \"True\" (Spin-Up)"
   ]
  },
  {
   "cell_type": "code",
   "execution_count": 9,
   "id": "921c061b",
   "metadata": {},
   "outputs": [],
   "source": [
    "def cE9000(spins):\n",
    "    size = spins.shape[0]\n",
    "    energy = 0\n",
    "    \n",
    "    # Schleife über alle Indizes i,j und k um durch gesamte 3D-Matrix zu iterieren\n",
    "    # Berechnung der Summe der Spins der Nachbarn des aktuellen Spins \n",
    "    # Berücksichtigung der Randbedingungen durch Modulo-Operator (Nachbarn im Gitter zyklisch verbunden)\n",
    "    for i in range(size):\n",
    "        for j in range(size):\n",
    "            for k in range(size):\n",
    "                spin = spins[i,j,k]\n",
    "                neighbors_sum = (\n",
    "                    spins[(i+1) % size,j,k] +\n",
    "                    spins[(i-1+size) % size,j,k] +\n",
    "                    spins[i,(j+1) % size,k] +\n",
    "                    spins[i,(j-1+size) % size,k] +\n",
    "                    spins[i,j,(k+1) % size] +\n",
    "                    spins[i,j,(k-1+size) % size])\n",
    "                energy += (-1) * spin * neighbors_sum # -1 berücksichtigt Wechselwirkung zwischen benachbarten Spins\n",
    "                \n",
    "    return energy/2 # Jede Paarwechselwirkung wird doppelt gezählt, daher durch 2 teilen"
   ]
  },
  {
   "cell_type": "code",
   "execution_count": 10,
   "id": "8dde2ad1",
   "metadata": {},
   "outputs": [
    {
     "name": "stdout",
     "output_type": "stream",
     "text": [
      "Zufällige Spin-Matrix:\n",
      "[[[False  True  True False  True]\n",
      "  [ True False  True  True False]\n",
      "  [False False False  True  True]\n",
      "  [ True False False  True False]\n",
      "  [ True False  True  True  True]]\n",
      "\n",
      " [[ True False False False False]\n",
      "  [ True False False  True False]\n",
      "  [False  True False  True  True]\n",
      "  [ True False  True  True  True]\n",
      "  [ True  True  True False False]]\n",
      "\n",
      " [[ True False  True False  True]\n",
      "  [False  True  True False False]\n",
      "  [ True False  True  True False]\n",
      "  [ True  True  True False  True]\n",
      "  [ True  True  True  True  True]]\n",
      "\n",
      " [[False False  True  True  True]\n",
      "  [False  True False  True  True]\n",
      "  [False False  True False False]\n",
      "  [ True  True  True False False]\n",
      "  [ True  True  True False  True]]\n",
      "\n",
      " [[False False  True False False]\n",
      "  [ True False False False False]\n",
      "  [ True  True  True False False]\n",
      "  [ True False  True False False]\n",
      "  [ True False  True False False]]]\n",
      "\n",
      "Energiefunktion der Spin-Matrix: -33.0\n"
     ]
    }
   ],
   "source": [
    "# Größe der Matrix\n",
    "size = 5\n",
    "\n",
    "# Zufällige Spin-Matrix erstellen\n",
    "spin_matrix = initialize_ising_model((size, size, size))\n",
    "\n",
    "# Energiefunktion berechnen\n",
    "energy = cE9000(spin_matrix)\n",
    "\n",
    "# Ergebnisse ausgeben\n",
    "print(\"Zufällige Spin-Matrix:\")\n",
    "print(spin_matrix)\n",
    "print(\"\\nEnergiefunktion der Spin-Matrix:\", energy)"
   ]
  },
  {
   "cell_type": "code",
   "execution_count": null,
   "id": "4d8ecf7f",
   "metadata": {},
   "outputs": [],
   "source": []
  }
 ],
 "metadata": {
  "kernelspec": {
   "display_name": "Python 3 (ipykernel)",
   "language": "python",
   "name": "python3"
  },
  "language_info": {
   "codemirror_mode": {
    "name": "ipython",
    "version": 3
   },
   "file_extension": ".py",
   "mimetype": "text/x-python",
   "name": "python",
   "nbconvert_exporter": "python",
   "pygments_lexer": "ipython3",
   "version": "3.9.12"
  }
 },
 "nbformat": 4,
 "nbformat_minor": 5
}
